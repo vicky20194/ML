{
 "cells": [
  {
   "cell_type": "code",
   "execution_count": null,
   "metadata": {},
   "outputs": [],
   "source": [
    "# Write a Python Program(with class concepts) to find the area of the triangle using the below\n",
    "# formula.\n",
    "# area = (s*(s-a)*(s-b)*(s-c)) ** 0.5\n",
    "# Function to take the length of the sides of triangle from user should be defined in the parent\n",
    "# class and function to calculate the area should be defined in subclass."
   ]
  },
  {
   "cell_type": "code",
   "execution_count": 29,
   "metadata": {},
   "outputs": [
    {
     "name": "stdout",
     "output_type": "stream",
     "text": [
      "Enter the length of the side of an Triangle: 3.5\n",
      "Enter the length of the side of an Triangle: 2.1\n",
      "Enter the length of the side of an Triangle: 5.0\n",
      "59.85295314351665\n"
     ]
    }
   ],
   "source": [
    "class Triangle:\n",
    "    def __init__(self):\n",
    "        self.a = float(input(\"Enter the length of the side of an Triangle: \"))\n",
    "        self.b = float(input(\"Enter the length of the side of an Triangle: \"))\n",
    "        self.c = float(input(\"Enter the length of the side of an Triangle: \"))\n",
    "        self.s = self.a + self.b + self.c\n",
    "         \n",
    "class Calculate(Triangle):\n",
    "    def __init__(self):\n",
    "        super().__init__()\n",
    "        area = (self.s*(self.s-self.a)*(self.s-self.b)*(self.s-self.c)) ** 0.5\n",
    "        print(area)\n",
    "\n",
    "t = Calculate()\n",
    "# print(help(Calculate))"
   ]
  },
  {
   "cell_type": "code",
   "execution_count": null,
   "metadata": {},
   "outputs": [],
   "source": [
    "# Write a function filter_long_words() that takes a list of words and an integer n and returns the list\n",
    "# of words that are longer than n."
   ]
  },
  {
   "cell_type": "code",
   "execution_count": 28,
   "metadata": {},
   "outputs": [
    {
     "name": "stdout",
     "output_type": "stream",
     "text": [
      "['ineuron', 'technology']\n"
     ]
    }
   ],
   "source": [
    "def filter_long_words(list_of_words, n):\n",
    "    l=[]\n",
    "    for i in range(len(list_of_words)):\n",
    "        if len(list_of_words[i]) > n:\n",
    "            l.append(list_of_words[i])\n",
    "            continue\n",
    "        else:\n",
    "            if i != None:\n",
    "                continue\n",
    "            else:\n",
    "                break\n",
    "    return l\n",
    "lst = ['vikram','ineuron','technology'] \n",
    "number = 6\n",
    "f = filter_long_words(lst, number)\n",
    "print(f)"
   ]
  },
  {
   "cell_type": "code",
   "execution_count": null,
   "metadata": {},
   "outputs": [],
   "source": [
    "# Write a Python program using function concept that maps list of words into a list of integers\n",
    "# representing the lengths of the corresponding words ."
   ]
  },
  {
   "cell_type": "code",
   "execution_count": 1,
   "metadata": {},
   "outputs": [
    {
     "name": "stdout",
     "output_type": "stream",
     "text": [
      "[2, 3, 5]\n"
     ]
    }
   ],
   "source": [
    "def word_to_integer(i):\n",
    "    temp = []\n",
    "    s = str(i[0])\n",
    "    s1 = str(i[1])\n",
    "    s2 = str(i[2])\n",
    "    temp.append(len(s))  \n",
    "    temp.append(len(s1))\n",
    "    temp.append(len(s2))\n",
    "    print(temp)\n",
    "    \n",
    "l=['ab','cde','fyghi']\n",
    "word_to_integer(l)"
   ]
  },
  {
   "cell_type": "code",
   "execution_count": null,
   "metadata": {},
   "outputs": [],
   "source": [
    "# Write a Python function which takes a character (i.e. a string of length 1) and returns True if it is\n",
    "# a vowel, False otherwise."
   ]
  },
  {
   "cell_type": "code",
   "execution_count": 8,
   "metadata": {},
   "outputs": [
    {
     "name": "stdout",
     "output_type": "stream",
     "text": [
      "Enter a character to check whether it is vowel or not: x\n",
      "False\n"
     ]
    }
   ],
   "source": [
    "def test(s):\n",
    "    vowel = ['a','e','i','o','u']\n",
    "    for i in range(len(vowel)):\n",
    "        if s in vowel:\n",
    "            return True\n",
    "        else:\n",
    "            return False\n",
    "\n",
    "charactercter = input(\"Enter a character to check whether it is vowel or not: \")\n",
    "t = test(charactercter)\n",
    "print(t)"
   ]
  }
 ],
 "metadata": {
  "kernelspec": {
   "display_name": "Python 3",
   "language": "python",
   "name": "python3"
  },
  "language_info": {
   "codemirror_mode": {
    "name": "ipython",
    "version": 3
   },
   "file_extension": ".py",
   "mimetype": "text/x-python",
   "name": "python",
   "nbconvert_exporter": "python",
   "pygments_lexer": "ipython3",
   "version": "3.7.4"
  }
 },
 "nbformat": 4,
 "nbformat_minor": 2
}
